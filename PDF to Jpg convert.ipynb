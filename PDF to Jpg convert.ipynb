{
 "cells": [
  {
   "cell_type": "code",
   "execution_count": 16,
   "metadata": {},
   "outputs": [],
   "source": [
    "# Import Libraries\n",
    "import os\n",
    "from pdf2image import convert_from_path\n",
    "from PIL import Image\n",
    "\n",
    "# Define the folder containing PDFs\n",
    "pdf_folder = r'D:\\GIS\\PoCRA\\NBSS\\maps\\test'  # Replace with your folder path\n",
    "output_folder = r'D:\\GIS\\PoCRA\\NBSS\\maps\\test'  # Replace with your desired output folder\n",
    "\n",
    "# Create output folder if it doesn't exist\n",
    "os.makedirs(output_folder, exist_ok=True)\n",
    "\n",
    "# Process each PDF in the folder\n",
    "for filename in os.listdir(pdf_folder):\n",
    "    if filename.lower().endswith('.pdf'):\n",
    "        pdf_path = os.path.join(pdf_folder, filename)\n",
    "        print(f'Processing {pdf_path}...')\n",
    "        \n",
    "        # Convert PDF to images\n",
    "        images = convert_from_path(pdf_path)\n",
    "        \n",
    "        # Save each page as a JPG\n",
    "        for i, img in enumerate(images):\n",
    "            output_filename = f\"{os.path.splitext(filename)[0]}.jpg\"\n",
    "            output_path = os.path.join(output_folder, output_filename)\n",
    "            \n",
    "            # Convert the image to RGB (JPG requires RGB mode)\n",
    "            img_rgb = img.convert('RGB')\n",
    "            img_rgb.save(output_path, 'JPEG')\n",
    "            print(f'Saved {output_path}')\n",
    "            \n",
    "    print(\"Conversion completed.\")"
   ]
  }
 ],
 "metadata": {
  "kernelspec": {
   "display_name": "Python 3",
   "language": "python",
   "name": "python3"
  },
  "language_info": {
   "codemirror_mode": {
    "name": "ipython",
    "version": 3
   },
   "file_extension": ".py",
   "mimetype": "text/x-python",
   "name": "python",
   "nbconvert_exporter": "python",
   "pygments_lexer": "ipython3",
   "version": "3.7.3"
  }
 },
 "nbformat": 4,
 "nbformat_minor": 2
}
